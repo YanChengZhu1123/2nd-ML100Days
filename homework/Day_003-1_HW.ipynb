{
 "cells": [
  {
   "cell_type": "markdown",
   "metadata": {},
   "source": [
    "## 練習時間\n",
    "在小量的資料上，我們用眼睛就可以看得出來程式碼是否有跑出我們理想中的結果\n",
    "\n",
    "請嘗試想像一個你需要的資料結構 (裡面的值可以是隨機的)，然後用上述的方法把它變成 pandas DataFrame\n",
    "\n",
    "#### Ex: 想像一個 dataframe 有兩個欄位，一個是國家，一個是人口，求人口數最多的國家\n",
    "\n",
    "### Hints: [隨機產生數值](https://blog.csdn.net/christianashannon/article/details/78867204)"
   ]
  },
  {
   "cell_type": "code",
   "execution_count": 2,
   "metadata": {
    "collapsed": true
   },
   "outputs": [],
   "source": [
    "import pandas as pd\n",
    "import numpy as np\n",
    "import random as r"
   ]
  },
  {
   "cell_type": "code",
   "execution_count": 56,
   "metadata": {},
   "outputs": [
    {
     "name": "stdout",
     "output_type": "stream",
     "text": [
      "          人口     國家\n",
      "0   66040000     UK\n",
      "1  327200000     US\n",
      "2  126800000  Japan\n",
      "\n",
      "人口最多的國家是 US\n"
     ]
    }
   ],
   "source": [
    "### 資料建立\n",
    "#data_dict = {'國家': ['UK','US','Japan'],\n",
    "#        '人口': [r.randint(1000000,2000000),r.randint(400000,500000),r.randint(800000,900000)]}\n",
    "data_dict = {'國家':['UK','US','Japan'],\n",
    "             '人口':[66040000,327200000,126800000]}\n",
    "data = pd.DataFrame(data_dict)\n",
    "print(data)\n",
    "\n",
    "\n",
    "###根據\"人口\"的欄位找出對應最大值的index\n",
    "indexByPol = data['人口'].idxmax()\n",
    "\n",
    "### 找出人口最多的國家\n",
    "## method 1\n",
    "# CountryColMax = data.iloc[indexByPol,1]\n",
    "\n",
    "##method 2\n",
    "CountryCol = data['國家']\n",
    "CountryColMax = CountryCol[indexByPol]\n",
    "\n",
    "### 求人口數最多的國家\n",
    "print(\"\")\n",
    "print(\"人口最多的國家是\",CountryColMax)"
   ]
  },
  {
   "cell_type": "markdown",
   "metadata": {
    "collapsed": true
   },
   "source": [
    "### 求人口數最多的國家"
   ]
  },
  {
   "cell_type": "code",
   "execution_count": null,
   "metadata": {
    "collapsed": true
   },
   "outputs": [],
   "source": []
  }
 ],
 "metadata": {
  "kernelspec": {
   "display_name": "Python 3",
   "language": "python",
   "name": "python3"
  },
  "language_info": {
   "codemirror_mode": {
    "name": "ipython",
    "version": 3
   },
   "file_extension": ".py",
   "mimetype": "text/x-python",
   "name": "python",
   "nbconvert_exporter": "python",
   "pygments_lexer": "ipython3",
   "version": "3.6.3"
  }
 },
 "nbformat": 4,
 "nbformat_minor": 2
}
